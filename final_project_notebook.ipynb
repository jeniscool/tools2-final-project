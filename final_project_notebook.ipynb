{
 "cells": [
  {
   "cell_type": "markdown",
   "id": "compound-mainland",
   "metadata": {},
   "source": [
    "# Tools 2 Final Project\n",
    "\n",
    "Jen Lee\n",
    "Connie Chang"
   ]
  },
  {
   "cell_type": "code",
   "execution_count": null,
   "id": "earlier-humidity",
   "metadata": {},
   "outputs": [],
   "source": [
    "# import data"
   ]
  }
 ],
 "metadata": {
  "kernelspec": {
   "display_name": "Python 3",
   "language": "python",
   "name": "python3"
  },
  "language_info": {
   "codemirror_mode": {
    "name": "ipython",
    "version": 3
   },
   "file_extension": ".py",
   "mimetype": "text/x-python",
   "name": "python",
   "nbconvert_exporter": "python",
   "pygments_lexer": "ipython3",
   "version": "3.7.8"
  }
 },
 "nbformat": 4,
 "nbformat_minor": 5
}
